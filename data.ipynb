{
 "cells": [
  {
   "cell_type": "code",
   "execution_count": 66,
   "metadata": {},
   "outputs": [],
   "source": [
    "import pandas as pd\n",
    "import os\n",
    "from PIL import Image\n",
    "from sklearn.model_selection import train_test_split\n",
    "import shutil\n",
    "from tqdm import tqdm\n",
    "import yaml"
   ]
  },
  {
   "cell_type": "code",
   "execution_count": 87,
   "metadata": {},
   "outputs": [],
   "source": [
    "TRAIN_INFO_PATH = \"data/train.csv\"\n",
    "TEST_INFO_PATH = \"data/test_phase1.csv\"\n",
    "TRAIN_IMAGES_PATH = \"data/train_images/\"\n",
    "TEST_IMAGES_PATH = \"data/test_images_phase1/\"\n",
    "DATA_PATH = \"yolov7/data/mosquito_alert/\"\n",
    "IMAGE_EXTENSION = '.jpeg'\n",
    "IMAGE_EXTENSION_LEN = len(IMAGE_EXTENSION)\n",
    "DATA_YAML_PATH = \"yolov7/data/mosquito_alert.yaml\""
   ]
  },
  {
   "cell_type": "code",
   "execution_count": 22,
   "metadata": {},
   "outputs": [],
   "source": [
    "df = pd.read_csv(TRAIN_INFO_PATH)"
   ]
  },
  {
   "cell_type": "code",
   "execution_count": 41,
   "metadata": {},
   "outputs": [
    {
     "data": {
      "text/html": [
       "<div>\n",
       "<style scoped>\n",
       "    .dataframe tbody tr th:only-of-type {\n",
       "        vertical-align: middle;\n",
       "    }\n",
       "\n",
       "    .dataframe tbody tr th {\n",
       "        vertical-align: top;\n",
       "    }\n",
       "\n",
       "    .dataframe thead th {\n",
       "        text-align: right;\n",
       "    }\n",
       "</style>\n",
       "<table border=\"1\" class=\"dataframe\">\n",
       "  <thead>\n",
       "    <tr style=\"text-align: right;\">\n",
       "      <th></th>\n",
       "      <th>img_fName</th>\n",
       "      <th>img_w</th>\n",
       "      <th>img_h</th>\n",
       "      <th>bbx_xtl</th>\n",
       "      <th>bbx_ytl</th>\n",
       "      <th>bbx_xbr</th>\n",
       "      <th>bbx_ybr</th>\n",
       "      <th>class_label</th>\n",
       "    </tr>\n",
       "  </thead>\n",
       "  <tbody>\n",
       "    <tr>\n",
       "      <th>0</th>\n",
       "      <td>92715872-3287-4bff-aa61-7047973e5c02.jpeg</td>\n",
       "      <td>2448</td>\n",
       "      <td>3264</td>\n",
       "      <td>1301</td>\n",
       "      <td>1546</td>\n",
       "      <td>1641</td>\n",
       "      <td>2096</td>\n",
       "      <td>albopictus</td>\n",
       "    </tr>\n",
       "    <tr>\n",
       "      <th>1</th>\n",
       "      <td>b0f7cc74-2272-4756-a387-38bcaf6965c8.jpeg</td>\n",
       "      <td>3024</td>\n",
       "      <td>4032</td>\n",
       "      <td>900</td>\n",
       "      <td>1897</td>\n",
       "      <td>1950</td>\n",
       "      <td>2990</td>\n",
       "      <td>albopictus</td>\n",
       "    </tr>\n",
       "    <tr>\n",
       "      <th>2</th>\n",
       "      <td>82df4b68-0f45-4afe-9215-48488bf3720e.jpeg</td>\n",
       "      <td>768</td>\n",
       "      <td>1024</td>\n",
       "      <td>220</td>\n",
       "      <td>58</td>\n",
       "      <td>659</td>\n",
       "      <td>808</td>\n",
       "      <td>albopictus</td>\n",
       "    </tr>\n",
       "    <tr>\n",
       "      <th>3</th>\n",
       "      <td>331ad30a-7564-4478-b863-7bc760adf5a1.jpeg</td>\n",
       "      <td>3456</td>\n",
       "      <td>4608</td>\n",
       "      <td>1169</td>\n",
       "      <td>2364</td>\n",
       "      <td>1586</td>\n",
       "      <td>2826</td>\n",
       "      <td>albopictus</td>\n",
       "    </tr>\n",
       "    <tr>\n",
       "      <th>4</th>\n",
       "      <td>1a46dbfb-104e-466b-88d7-98958d7b1fe9.jpeg</td>\n",
       "      <td>1024</td>\n",
       "      <td>1365</td>\n",
       "      <td>129</td>\n",
       "      <td>231</td>\n",
       "      <td>697</td>\n",
       "      <td>1007</td>\n",
       "      <td>culex</td>\n",
       "    </tr>\n",
       "    <tr>\n",
       "      <th>...</th>\n",
       "      <td>...</td>\n",
       "      <td>...</td>\n",
       "      <td>...</td>\n",
       "      <td>...</td>\n",
       "      <td>...</td>\n",
       "      <td>...</td>\n",
       "      <td>...</td>\n",
       "      <td>...</td>\n",
       "    </tr>\n",
       "    <tr>\n",
       "      <th>8020</th>\n",
       "      <td>ca1468e3-1337-48b3-b378-135758317454.jpeg</td>\n",
       "      <td>4160</td>\n",
       "      <td>2080</td>\n",
       "      <td>2055</td>\n",
       "      <td>704</td>\n",
       "      <td>2494</td>\n",
       "      <td>998</td>\n",
       "      <td>albopictus</td>\n",
       "    </tr>\n",
       "    <tr>\n",
       "      <th>8021</th>\n",
       "      <td>c2e77768-61ba-4e27-907d-fe3198e8f5ce.jpeg</td>\n",
       "      <td>3024</td>\n",
       "      <td>4032</td>\n",
       "      <td>1073</td>\n",
       "      <td>875</td>\n",
       "      <td>1830</td>\n",
       "      <td>1503</td>\n",
       "      <td>culiseta</td>\n",
       "    </tr>\n",
       "    <tr>\n",
       "      <th>8022</th>\n",
       "      <td>d7521d94-92f7-40a1-9cd5-74a0b67ca98b.jpeg</td>\n",
       "      <td>1024</td>\n",
       "      <td>1365</td>\n",
       "      <td>341</td>\n",
       "      <td>485</td>\n",
       "      <td>761</td>\n",
       "      <td>1123</td>\n",
       "      <td>albopictus</td>\n",
       "    </tr>\n",
       "    <tr>\n",
       "      <th>8023</th>\n",
       "      <td>03098cc0-ee82-4fa0-b045-579951b7855c.jpeg</td>\n",
       "      <td>2128</td>\n",
       "      <td>4608</td>\n",
       "      <td>869</td>\n",
       "      <td>1235</td>\n",
       "      <td>2128</td>\n",
       "      <td>2631</td>\n",
       "      <td>culex</td>\n",
       "    </tr>\n",
       "    <tr>\n",
       "      <th>8024</th>\n",
       "      <td>5232677a-0f87-44ec-bc42-405444cf5d2c.jpeg</td>\n",
       "      <td>1024</td>\n",
       "      <td>1365</td>\n",
       "      <td>352</td>\n",
       "      <td>704</td>\n",
       "      <td>663</td>\n",
       "      <td>943</td>\n",
       "      <td>culex</td>\n",
       "    </tr>\n",
       "  </tbody>\n",
       "</table>\n",
       "<p>8025 rows × 8 columns</p>\n",
       "</div>"
      ],
      "text/plain": [
       "                                      img_fName  img_w  img_h  bbx_xtl  \\\n",
       "0     92715872-3287-4bff-aa61-7047973e5c02.jpeg   2448   3264     1301   \n",
       "1     b0f7cc74-2272-4756-a387-38bcaf6965c8.jpeg   3024   4032      900   \n",
       "2     82df4b68-0f45-4afe-9215-48488bf3720e.jpeg    768   1024      220   \n",
       "3     331ad30a-7564-4478-b863-7bc760adf5a1.jpeg   3456   4608     1169   \n",
       "4     1a46dbfb-104e-466b-88d7-98958d7b1fe9.jpeg   1024   1365      129   \n",
       "...                                         ...    ...    ...      ...   \n",
       "8020  ca1468e3-1337-48b3-b378-135758317454.jpeg   4160   2080     2055   \n",
       "8021  c2e77768-61ba-4e27-907d-fe3198e8f5ce.jpeg   3024   4032     1073   \n",
       "8022  d7521d94-92f7-40a1-9cd5-74a0b67ca98b.jpeg   1024   1365      341   \n",
       "8023  03098cc0-ee82-4fa0-b045-579951b7855c.jpeg   2128   4608      869   \n",
       "8024  5232677a-0f87-44ec-bc42-405444cf5d2c.jpeg   1024   1365      352   \n",
       "\n",
       "      bbx_ytl  bbx_xbr  bbx_ybr class_label  \n",
       "0        1546     1641     2096  albopictus  \n",
       "1        1897     1950     2990  albopictus  \n",
       "2          58      659      808  albopictus  \n",
       "3        2364     1586     2826  albopictus  \n",
       "4         231      697     1007       culex  \n",
       "...       ...      ...      ...         ...  \n",
       "8020      704     2494      998  albopictus  \n",
       "8021      875     1830     1503    culiseta  \n",
       "8022      485      761     1123  albopictus  \n",
       "8023     1235     2128     2631       culex  \n",
       "8024      704      663      943       culex  \n",
       "\n",
       "[8025 rows x 8 columns]"
      ]
     },
     "execution_count": 41,
     "metadata": {},
     "output_type": "execute_result"
    }
   ],
   "source": [
    "df"
   ]
  },
  {
   "cell_type": "code",
   "execution_count": 42,
   "metadata": {},
   "outputs": [],
   "source": [
    "df.columns = ['image_filename', 'img_w', 'img_h', 'bbx_xtl', 'bbx_ytl', 'bbx_xbr', 'bbx_ybr', 'class_label']"
   ]
  },
  {
   "cell_type": "code",
   "execution_count": 46,
   "metadata": {},
   "outputs": [
    {
     "name": "stdout",
     "output_type": "stream",
     "text": [
      "Training Data\n",
      "Number of images: 8025\n",
      "Number of classes: 6\n",
      "Classes:['albopictus', 'culex', 'anopheles', 'culiseta', 'japonicus/koreicus', 'aegypti']\n",
      "Class counts:\n",
      "albopictus            3567\n",
      "culex                 3544\n",
      "culiseta               492\n",
      "japonicus/koreicus     321\n",
      "anopheles               63\n",
      "aegypti                 38\n",
      "Name: class_label, dtype: int64\n"
     ]
    }
   ],
   "source": [
    "print(\"Training Data\")\n",
    "print(f\"Number of images: {len(df)}\")\n",
    "print(f\"Number of classes: {df.class_label.nunique()}\")\n",
    "print(f\"Classes:{list(df.class_label.unique())}\")\n",
    "print(f\"Class counts:\\n{df['class_label'].value_counts()}\")"
   ]
  },
  {
   "cell_type": "code",
   "execution_count": 47,
   "metadata": {},
   "outputs": [],
   "source": [
    "df_train, df_valid = train_test_split(df,\n",
    "                                    stratify=df['class_label'].values, \n",
    "                                    test_size=0.2)"
   ]
  },
  {
   "cell_type": "code",
   "execution_count": 48,
   "metadata": {},
   "outputs": [
    {
     "name": "stdout",
     "output_type": "stream",
     "text": [
      "Train Data\n",
      "Number of images: 6420\n",
      "Number of classes: 6\n",
      "Classes:['culex', 'culiseta', 'albopictus', 'anopheles', 'japonicus/koreicus', 'aegypti']\n",
      "Class counts:\n",
      "albopictus            2854\n",
      "culex                 2835\n",
      "culiseta               394\n",
      "japonicus/koreicus     257\n",
      "anopheles               50\n",
      "aegypti                 30\n",
      "Name: class_label, dtype: int64\n"
     ]
    }
   ],
   "source": [
    "print(\"Train Data\")\n",
    "print(f\"Number of images: {len(df_train)}\")\n",
    "print(f\"Number of classes: {df_train.class_label.nunique()}\")\n",
    "print(f\"Classes:{list(df_train.class_label.unique())}\")\n",
    "print(f\"Class counts:\\n{df_train['class_label'].value_counts()}\")"
   ]
  },
  {
   "cell_type": "code",
   "execution_count": 49,
   "metadata": {},
   "outputs": [
    {
     "name": "stdout",
     "output_type": "stream",
     "text": [
      "Valid Data\n",
      "Number of images: 1605\n",
      "Number of classes: 6\n",
      "Classes:['culiseta', 'albopictus', 'culex', 'japonicus/koreicus', 'anopheles', 'aegypti']\n",
      "Class counts:\n",
      "albopictus            713\n",
      "culex                 709\n",
      "culiseta               98\n",
      "japonicus/koreicus     64\n",
      "anopheles              13\n",
      "aegypti                 8\n",
      "Name: class_label, dtype: int64\n"
     ]
    }
   ],
   "source": [
    "print(\"Valid Data\")\n",
    "print(f\"Number of images: {len(df_valid)}\")\n",
    "print(f\"Number of classes: {df_valid.class_label.nunique()}\")\n",
    "print(f\"Classes:{list(df_valid.class_label.unique())}\")\n",
    "print(f\"Class counts:\\n{df_valid['class_label'].value_counts()}\")"
   ]
  },
  {
   "cell_type": "code",
   "execution_count": 67,
   "metadata": {},
   "outputs": [
    {
     "name": "stdout",
     "output_type": "stream",
     "text": [
      "{'aegypti': 0, 'albopictus': 1, 'anopheles': 2, 'culex': 3, 'culiseta': 4, 'japonicus/koreicus': 5}\n"
     ]
    }
   ],
   "source": [
    "classes = list(df.class_label.sort_values().unique())\n",
    "num_classes = len(classes)\n",
    "labels_dict = {label:i for i,label in enumerate(classes)}\n",
    "print(labels_dict)\n"
   ]
  },
  {
   "cell_type": "code",
   "execution_count": 93,
   "metadata": {},
   "outputs": [],
   "source": [
    "if os.path.exists(DATA_PATH):\n",
    "    shutil.rmtree(DATA_PATH)\n",
    "os.mkdir(DATA_PATH)\n",
    "\n",
    "images_path = DATA_PATH + \"images/\"\n",
    "\n",
    "if os.path.exists(images_path):\n",
    "    shutil.rmtree(images_path)\n",
    "os.mkdir(images_path)\n",
    "    \n",
    "labels_path = DATA_PATH + \"labels/\"\n",
    "if os.path.exists(labels_path):\n",
    "    shutil.rmtree(labels_path)\n",
    "os.mkdir(labels_path)\n",
    "    \n",
    "training_images_path = images_path + 'train/'\n",
    "validation_images_path = images_path + 'valid/'\n",
    "training_labels_path = labels_path + 'train/'\n",
    "validation_labels_path = labels_path +'valid/'\n",
    "    \n",
    "os.mkdir(training_images_path)\n",
    "os.mkdir(validation_images_path)\n",
    "os.mkdir(training_labels_path)\n",
    "os.mkdir(validation_labels_path)\n"
   ]
  },
  {
   "cell_type": "code",
   "execution_count": 92,
   "metadata": {},
   "outputs": [],
   "source": [
    "def convert_to_yolov7_format(df, images_path, labels_path):\n",
    "    for index, row in tqdm(df.iterrows()):\n",
    "        class_id = labels_dict[row['class_label']]\n",
    "        b_center_x = ((row[\"bbx_xtl\"] + row[\"bbx_xbr\"]) / 2)/row[\"img_w\"]\n",
    "        b_center_y = ((row[\"bbx_ytl\"] + row[\"bbx_ybr\"]) / 2)/row[\"img_h\"]\n",
    "        b_width    = (row[\"bbx_xbr\"] - row[\"bbx_xtl\"])/row[\"img_w\"]\n",
    "        b_height   = (row[\"bbx_ybr\"] - row[\"bbx_ytl\"])/row[\"img_h\"]\n",
    "\n",
    "        label_file = open(labels_path +  row['image_filename'][0:len(row['image_filename']) - IMAGE_EXTENSION_LEN]  +\".txt\",\"w\")\n",
    "        label_str = \"{} {:.3f} {:.3f} {:.3f} {:.3f}\".format(class_id, b_center_x, b_center_y, b_width, b_height)\n",
    "        label_file.writelines(label_str)\n",
    "        label_file.close()\n",
    "\n",
    "        image_file = row['image_filename']\n",
    "        src_image = TRAIN_IMAGES_PATH + image_file\n",
    "        shutil.copy(src_image, images_path)"
   ]
  },
  {
   "cell_type": "code",
   "execution_count": 94,
   "metadata": {},
   "outputs": [
    {
     "name": "stderr",
     "output_type": "stream",
     "text": [
      "6420it [00:21, 303.51it/s]\n",
      "1605it [00:07, 218.21it/s]\n"
     ]
    }
   ],
   "source": [
    "# Convert data to yolo format\n",
    "convert_to_yolov7_format(df_train, training_images_path, training_labels_path)\n",
    "convert_to_yolov7_format(df_valid, validation_images_path, validation_labels_path)"
   ]
  },
  {
   "cell_type": "code",
   "execution_count": 78,
   "metadata": {},
   "outputs": [
    {
     "data": {
      "text/plain": [
       "'yolov7/data/mosquito_alert/images/valid/'"
      ]
     },
     "execution_count": 78,
     "metadata": {},
     "output_type": "execute_result"
    }
   ],
   "source": [
    "validation_images_path"
   ]
  },
  {
   "cell_type": "code",
   "execution_count": 95,
   "metadata": {},
   "outputs": [],
   "source": [
    "d = {'A':'a', 'B':{'C':'c', 'D':'d', 'E':'e'}}\n",
    "data_config = {}\n",
    "data_config[\"train\"] = 'data/mosquito_alert/images/train/'\n",
    "data_config[\"val\"] = 'data/mosquito_alert/images/valid/'\n",
    "data_config[\"nc\"] = num_classes\n",
    "data_config[\"names\"] = classes\n",
    "\n",
    "with open(DATA_YAML_PATH, 'w') as yaml_file:\n",
    "    yaml.dump(data_config, yaml_file)"
   ]
  }
 ],
 "metadata": {
  "kernelspec": {
   "display_name": "Python 3",
   "language": "python",
   "name": "python3"
  },
  "language_info": {
   "codemirror_mode": {
    "name": "ipython",
    "version": 3
   },
   "file_extension": ".py",
   "mimetype": "text/x-python",
   "name": "python",
   "nbconvert_exporter": "python",
   "pygments_lexer": "ipython3",
   "version": "3.10.11"
  },
  "orig_nbformat": 4
 },
 "nbformat": 4,
 "nbformat_minor": 2
}
